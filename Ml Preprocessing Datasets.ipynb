{
 "cells": [
  {
   "cell_type": "markdown",
   "metadata": {},
   "source": [
    "# Basic Machine Learning Data Preprocessing"
   ]
  },
  {
   "cell_type": "code",
   "execution_count": 1,
   "metadata": {},
   "outputs": [],
   "source": [
    "#importing the libraries\n",
    "%matplotlib inline\n",
    "import numpy as np\n",
    "import matplotlib.pyplot as plt\n",
    "import pandas as pd"
   ]
  },
  {
   "cell_type": "code",
   "execution_count": 2,
   "metadata": {},
   "outputs": [
    {
     "data": {
      "text/html": [
       "<div>\n",
       "<style scoped>\n",
       "    .dataframe tbody tr th:only-of-type {\n",
       "        vertical-align: middle;\n",
       "    }\n",
       "\n",
       "    .dataframe tbody tr th {\n",
       "        vertical-align: top;\n",
       "    }\n",
       "\n",
       "    .dataframe thead th {\n",
       "        text-align: right;\n",
       "    }\n",
       "</style>\n",
       "<table border=\"1\" class=\"dataframe\">\n",
       "  <thead>\n",
       "    <tr style=\"text-align: right;\">\n",
       "      <th></th>\n",
       "      <th>Names</th>\n",
       "      <th>Age</th>\n",
       "      <th>Salary</th>\n",
       "      <th>Interest</th>\n",
       "    </tr>\n",
       "  </thead>\n",
       "  <tbody>\n",
       "    <tr>\n",
       "      <th>0</th>\n",
       "      <td>Ecil</td>\n",
       "      <td>23.0</td>\n",
       "      <td>10000.0</td>\n",
       "      <td>yes</td>\n",
       "    </tr>\n",
       "    <tr>\n",
       "      <th>1</th>\n",
       "      <td>Hel</td>\n",
       "      <td>21.0</td>\n",
       "      <td>8500.0</td>\n",
       "      <td>yes</td>\n",
       "    </tr>\n",
       "    <tr>\n",
       "      <th>2</th>\n",
       "      <td>Bhel</td>\n",
       "      <td>NaN</td>\n",
       "      <td>9500.0</td>\n",
       "      <td>no</td>\n",
       "    </tr>\n",
       "    <tr>\n",
       "      <th>3</th>\n",
       "      <td>Ecil</td>\n",
       "      <td>24.0</td>\n",
       "      <td>NaN</td>\n",
       "      <td>yes</td>\n",
       "    </tr>\n",
       "    <tr>\n",
       "      <th>4</th>\n",
       "      <td>Drdo</td>\n",
       "      <td>22.0</td>\n",
       "      <td>10500.0</td>\n",
       "      <td>no</td>\n",
       "    </tr>\n",
       "  </tbody>\n",
       "</table>\n",
       "</div>"
      ],
      "text/plain": [
       "  Names   Age   Salary Interest\n",
       "0  Ecil  23.0  10000.0      yes\n",
       "1   Hel  21.0   8500.0      yes\n",
       "2  Bhel   NaN   9500.0       no\n",
       "3  Ecil  24.0      NaN      yes\n",
       "4  Drdo  22.0  10500.0       no"
      ]
     },
     "execution_count": 2,
     "metadata": {},
     "output_type": "execute_result"
    }
   ],
   "source": [
    "# Importing the csv file using pandas library and head show only first five of the tabel in the dataset\n",
    "dataset = pd.read_csv('sample.csv')\n",
    "dataset.head()"
   ]
  },
  {
   "cell_type": "code",
   "execution_count": 3,
   "metadata": {},
   "outputs": [],
   "source": [
    "# Spliting the dataset into X and y. Here X is Independent variable and y is Dependent variable\n",
    "X = dataset.iloc[:, :-1].values\n",
    "y = dataset.iloc[:, 3].values"
   ]
  },
  {
   "cell_type": "markdown",
   "metadata": {},
   "source": [
    "# Imputer transforms for completing missing values"
   ]
  },
  {
   "cell_type": "code",
   "execution_count": 4,
   "metadata": {},
   "outputs": [],
   "source": [
    "# Imputer transform for complete missing values with NaN with empty cell \n",
    "from sklearn.preprocessing import Imputer"
   ]
  },
  {
   "cell_type": "code",
   "execution_count": 5,
   "metadata": {},
   "outputs": [
    {
     "name": "stderr",
     "output_type": "stream",
     "text": [
      "c:\\python\\lib\\site-packages\\sklearn\\utils\\deprecation.py:58: DeprecationWarning: Class Imputer is deprecated; Imputer was deprecated in version 0.20 and will be removed in 0.22. Import impute.SimpleImputer from sklearn instead.\n",
      "  warnings.warn(msg, category=DeprecationWarning)\n"
     ]
    }
   ],
   "source": [
    "#using parameters missing_values = 'NaN' and Strategy = 'Mean'\n",
    "imputer = Imputer(missing_values = 'NaN', strategy = 'mean', axis = 0)\n",
    "imputer = imputer.fit(X[:, 1:3])\n",
    "imputer\n",
    "X[:, 1:3] = imputer.transform(X[:, 1:3])"
   ]
  },
  {
   "cell_type": "code",
   "execution_count": 6,
   "metadata": {},
   "outputs": [
    {
     "data": {
      "text/plain": [
       "array([['Ecil', 23.0, 10000.0],\n",
       "       ['Hel', 21.0, 8500.0],\n",
       "       ['Bhel', 22.9375, 9500.0],\n",
       "       ['Ecil', 24.0, 10411.764705882353],\n",
       "       ['Drdo', 22.0, 10500.0],\n",
       "       ['Drdo', 20.0, 10411.764705882353],\n",
       "       ['Ecil', 22.9375, 8000.0],\n",
       "       ['Hel', 22.0, 9000.0],\n",
       "       ['Bhel', 19.0, 7500.0],\n",
       "       ['Hel', 18.0, 7000.0],\n",
       "       ['Ecil', 22.9375, 10411.764705882353],\n",
       "       ['Drdo', 25.0, 11000.0],\n",
       "       ['Hel', 21.0, 8500.0],\n",
       "       ['Bhel', 22.9375, 9000.0],\n",
       "       ['Bhel', 26.0, 13000.0],\n",
       "       ['Drdo', 28.0, 16000.0],\n",
       "       ['Ecil', 26.0, 15000.0],\n",
       "       ['Ecil', 21.0, 8500.0],\n",
       "       ['Ecil', 24.0, 10500.0],\n",
       "       ['Drdo', 27.0, 15500.0]], dtype=object)"
      ]
     },
     "execution_count": 6,
     "metadata": {},
     "output_type": "execute_result"
    }
   ],
   "source": [
    "X"
   ]
  },
  {
   "cell_type": "markdown",
   "metadata": {},
   "source": [
    "# Label Encode"
   ]
  },
  {
   "cell_type": "code",
   "execution_count": 7,
   "metadata": {},
   "outputs": [],
   "source": [
    "# importing labelEncoder which is use to encode target features to number and give orderwise number\n",
    "from sklearn.preprocessing import LabelEncoder"
   ]
  },
  {
   "cell_type": "code",
   "execution_count": 8,
   "metadata": {},
   "outputs": [],
   "source": [
    "labelencoder_y = LabelEncoder()\n",
    "y = labelencoder_y.fit_transform(y)\n",
    "labelencoder_X = LabelEncoder()\n",
    "X[:, 0] = labelencoder_X.fit_transform(X[:, 0])"
   ]
  },
  {
   "cell_type": "code",
   "execution_count": 9,
   "metadata": {},
   "outputs": [
    {
     "data": {
      "text/plain": [
       "array([[2, 23.0, 10000.0],\n",
       "       [3, 21.0, 8500.0],\n",
       "       [0, 22.9375, 9500.0],\n",
       "       [2, 24.0, 10411.764705882353],\n",
       "       [1, 22.0, 10500.0],\n",
       "       [1, 20.0, 10411.764705882353],\n",
       "       [2, 22.9375, 8000.0],\n",
       "       [3, 22.0, 9000.0],\n",
       "       [0, 19.0, 7500.0],\n",
       "       [3, 18.0, 7000.0],\n",
       "       [2, 22.9375, 10411.764705882353],\n",
       "       [1, 25.0, 11000.0],\n",
       "       [3, 21.0, 8500.0],\n",
       "       [0, 22.9375, 9000.0],\n",
       "       [0, 26.0, 13000.0],\n",
       "       [1, 28.0, 16000.0],\n",
       "       [2, 26.0, 15000.0],\n",
       "       [2, 21.0, 8500.0],\n",
       "       [2, 24.0, 10500.0],\n",
       "       [1, 27.0, 15500.0]], dtype=object)"
      ]
     },
     "execution_count": 9,
     "metadata": {},
     "output_type": "execute_result"
    }
   ],
   "source": [
    "X"
   ]
  },
  {
   "cell_type": "code",
   "execution_count": 10,
   "metadata": {},
   "outputs": [],
   "source": [
    "from sklearn.preprocessing import OneHotEncoder"
   ]
  },
  {
   "cell_type": "code",
   "execution_count": 11,
   "metadata": {},
   "outputs": [
    {
     "name": "stderr",
     "output_type": "stream",
     "text": [
      "c:\\python\\lib\\site-packages\\sklearn\\preprocessing\\_encoders.py:363: FutureWarning: The handling of integer data will change in version 0.22. Currently, the categories are determined based on the range [0, max(values)], while in the future they will be determined based on the unique values.\n",
      "If you want the future behaviour and silence this warning, you can specify \"categories='auto'\".\n",
      "In case you used a LabelEncoder before this OneHotEncoder to convert the categories to integers, then you can now use the OneHotEncoder directly.\n",
      "  warnings.warn(msg, FutureWarning)\n",
      "c:\\python\\lib\\site-packages\\sklearn\\preprocessing\\_encoders.py:385: DeprecationWarning: The 'categorical_features' keyword is deprecated in version 0.20 and will be removed in 0.22. You can use the ColumnTransformer instead.\n",
      "  \"use the ColumnTransformer instead.\", DeprecationWarning)\n"
     ]
    }
   ],
   "source": [
    "onehotencode = OneHotEncoder(categorical_features= [0])\n",
    "X = onehotencode.fit_transform(X).toarray()"
   ]
  },
  {
   "cell_type": "code",
   "execution_count": 12,
   "metadata": {},
   "outputs": [],
   "source": [
    "from sklearn.model_selection import train_test_split"
   ]
  },
  {
   "cell_type": "code",
   "execution_count": 13,
   "metadata": {},
   "outputs": [],
   "source": [
    "X_train, X_test, y_train, y_test = train_test_split(X, y, test_size = 0.3, random_state = 0)"
   ]
  },
  {
   "cell_type": "code",
   "execution_count": 14,
   "metadata": {},
   "outputs": [],
   "source": [
    "from sklearn.preprocessing import StandardScaler"
   ]
  },
  {
   "cell_type": "code",
   "execution_count": 15,
   "metadata": {},
   "outputs": [],
   "source": [
    "sc_X = StandardScaler()\n",
    "X_train = sc_X.fit_transform(X_train)\n",
    "X_test = sc_X.transform(X_test)"
   ]
  },
  {
   "cell_type": "code",
   "execution_count": 16,
   "metadata": {},
   "outputs": [
    {
     "data": {
      "text/plain": [
       "array([[-0.52223297, -0.63245553,  1.58113883, -0.52223297, -0.07666443,\n",
       "        -1.02242689],\n",
       "       [ 1.91485422, -0.63245553, -0.63245553, -0.52223297, -0.07666443,\n",
       "        -0.61720191],\n",
       "       [-0.52223297,  1.58113883, -0.63245553, -0.52223297, -0.45107213,\n",
       "        -0.00936444],\n",
       "       [ 1.91485422, -0.63245553, -0.63245553, -0.52223297, -0.07666443,\n",
       "        -0.41458942],\n",
       "       [-0.52223297,  1.58113883, -0.63245553, -0.52223297, -1.24980855,\n",
       "        -0.04511959],\n",
       "       [ 1.91485422, -0.63245553, -0.63245553, -0.52223297,  1.14640071,\n",
       "         1.003698  ],\n",
       "       [-0.52223297, -0.63245553, -0.63245553,  1.91485422, -2.04854497,\n",
       "        -1.42765186],\n",
       "       [-0.52223297, -0.63245553, -0.63245553,  1.91485422, -0.45107213,\n",
       "        -0.61720191],\n",
       "       [-0.52223297, -0.63245553,  1.58113883, -0.52223297,  1.14640071,\n",
       "         1.81414796],\n",
       "       [-0.52223297,  1.58113883, -0.63245553, -0.52223297,  0.7470325 ,\n",
       "         0.19324805],\n",
       "       [-0.52223297, -0.63245553,  1.58113883, -0.52223297,  0.34766429,\n",
       "        -0.04511959],\n",
       "       [-0.52223297, -0.63245553,  1.58113883, -0.52223297, -0.05170392,\n",
       "        -0.21197693],\n",
       "       [-0.52223297,  1.58113883, -0.63245553, -0.52223297,  1.94513713,\n",
       "         2.21937293],\n",
       "       [-0.52223297, -0.63245553, -0.63245553,  1.91485422, -0.85044034,\n",
       "        -0.8198144 ]])"
      ]
     },
     "execution_count": 16,
     "metadata": {},
     "output_type": "execute_result"
    }
   ],
   "source": [
    "X_train"
   ]
  },
  {
   "cell_type": "code",
   "execution_count": 17,
   "metadata": {},
   "outputs": [
    {
     "data": {
      "text/plain": [
       "array([[-0.52223297, -0.63245553,  1.58113883, -0.52223297,  0.34766429,\n",
       "        -0.00936444],\n",
       "       [-0.52223297, -0.63245553, -0.63245553,  1.91485422, -0.85044034,\n",
       "        -0.8198144 ],\n",
       "       [-0.52223297,  1.58113883, -0.63245553, -0.52223297,  1.54576892,\n",
       "         2.01676045],\n",
       "       [ 1.91485422, -0.63245553, -0.63245553, -0.52223297, -1.64917676,\n",
       "        -1.22503938],\n",
       "       [-0.52223297, -0.63245553,  1.58113883, -0.52223297, -0.07666443,\n",
       "        -0.04511959],\n",
       "       [-0.52223297, -0.63245553,  1.58113883, -0.52223297, -0.85044034,\n",
       "        -0.8198144 ]])"
      ]
     },
     "execution_count": 17,
     "metadata": {},
     "output_type": "execute_result"
    }
   ],
   "source": [
    "X_test"
   ]
  },
  {
   "cell_type": "code",
   "execution_count": null,
   "metadata": {},
   "outputs": [],
   "source": []
  }
 ],
 "metadata": {
  "kernelspec": {
   "display_name": "Python 3",
   "language": "python",
   "name": "python3"
  },
  "language_info": {
   "codemirror_mode": {
    "name": "ipython",
    "version": 3
   },
   "file_extension": ".py",
   "mimetype": "text/x-python",
   "name": "python",
   "nbconvert_exporter": "python",
   "pygments_lexer": "ipython3",
   "version": "3.5.4"
  }
 },
 "nbformat": 4,
 "nbformat_minor": 2
}
